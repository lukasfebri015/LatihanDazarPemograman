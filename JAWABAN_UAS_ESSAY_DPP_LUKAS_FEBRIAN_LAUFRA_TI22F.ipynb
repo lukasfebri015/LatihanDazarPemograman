{
  "nbformat": 4,
  "nbformat_minor": 0,
  "metadata": {
    "colab": {
      "provenance": [],
      "authorship_tag": "ABX9TyNfiZQvc1k2d1WXserrtdlF",
      "include_colab_link": true
    },
    "kernelspec": {
      "name": "python3",
      "display_name": "Python 3"
    },
    "language_info": {
      "name": "python"
    }
  },
  "cells": [
    {
      "cell_type": "markdown",
      "metadata": {
        "id": "view-in-github",
        "colab_type": "text"
      },
      "source": [
        "<a href=\"https://colab.research.google.com/github/lukasfebri015/LatihanDazarPemograman/blob/main/JAWABAN_UAS_ESSAY_DPP_LUKAS_FEBRIAN_LAUFRA_TI22F.ipynb\" target=\"_parent\"><img src=\"https://colab.research.google.com/assets/colab-badge.svg\" alt=\"Open In Colab\"/></a>"
      ]
    },
    {
      "cell_type": "markdown",
      "source": [
        "**SOAL 1**\n",
        "\n",
        "**A. Ubahlah tabel berikut ini menjadi data dalam bentuk dictionary**"
      ],
      "metadata": {
        "id": "79i3PKOwe5I9"
      }
    },
    {
      "cell_type": "code",
      "execution_count": 8,
      "metadata": {
        "colab": {
          "base_uri": "https://localhost:8080/",
          "height": 0
        },
        "id": "hMjtZVJ8Y9Uq",
        "outputId": "d0b33f92-a4eb-4965-8c9f-b85e90fbc081"
      },
      "outputs": [
        {
          "output_type": "stream",
          "name": "stdout",
          "text": [
            "{'101': {'nama': 'Andri', 'subject': 'Web Programming', 'hasil': 70}, '102': {'nama': 'Budi', 'subject': 'Web Programming', 'hasil': 80}, '103': {'nama': 'Cika', 'subject': 'Web Programming', 'hasil': 80}, '104': {'nama': 'Dedi', 'subject': 'Web Programming', 'hasil': 90}, '106': {'nama': 'Feri', 'subject': 'Web Programming', 'hasil': 60}}\n"
          ]
        }
      ],
      "source": [
        "# 18 NESTED DICTIONARY (DICTIONARY DI DICTIONARY).#\n",
        "teman = {\n",
        "    '101':{\n",
        "        'nama':'Andri',\n",
        "        'subject':'Programming Basic',\n",
        "        'hasil':80\n",
        "    }, \n",
        "    '102':{\n",
        "        'nama':'Budi',\n",
        "        'subject':'Programming Basic',\n",
        "        'hasil':90\n",
        "    },\n",
        "    '103':{\n",
        "        'nama':'Cika',\n",
        "        'subject':'Programming Basic',\n",
        "        'hasil':100\n",
        "    },\n",
        "    '104':{\n",
        "        'nama':'Dedi',\n",
        "        'subject':'Programming Basic',\n",
        "        'hasil':100\n",
        "    },\n",
        "    '106':{\n",
        "        'nama':'Feri',\n",
        "        'subject':'Programming Basic',\n",
        "        'hasil':40\n",
        "    },\n",
        "    '101':{\n",
        "        'nama':'Andri',\n",
        "        'subject':'Web Programming',\n",
        "        'hasil':70\n",
        "    }, \n",
        "    '102':{\n",
        "        'nama':'Budi',\n",
        "        'subject':'Web Programming',\n",
        "        'hasil':80\n",
        "    },\n",
        "    '103':{\n",
        "        'nama':'Cika',\n",
        "        'subject':'Web Programming',\n",
        "        'hasil':80\n",
        "    },\n",
        "    '104':{\n",
        "        'nama':'Dedi',\n",
        "        'subject':'Web Programming',\n",
        "        'hasil':90\n",
        "    },\n",
        "    '106':{\n",
        "        'nama':'Feri',\n",
        "        'subject':'Web Programming',\n",
        "        'hasil':60\n",
        "    },\n",
        "}\n",
        "print(teman)"
      ]
    },
    {
      "cell_type": "markdown",
      "source": [
        "**B. Membuat data dari dictionaries menampilkan data lebih besar dari 80!**"
      ],
      "metadata": {
        "id": "huM5qRwIfb98"
      }
    },
    {
      "cell_type": "code",
      "source": [
        "# 18 NESTED DICTIONARY (DICTIONARY DI DICTIONARY).#\n",
        "teman = {\n",
        "    '101':{\n",
        "        'nama':'Andri',\n",
        "        'subject':'Programming Basic',\n",
        "        'hasil':80\n",
        "    }, \n",
        "    '102':{\n",
        "        'nama':'Budi',\n",
        "        'subject':'Programming Basic',\n",
        "        'hasil':90\n",
        "    },\n",
        "    '103':{\n",
        "        'nama':'Cika',\n",
        "        'subject':'Programming Basic',\n",
        "        'hasil':100\n",
        "    },\n",
        "    '104':{\n",
        "        'nama':'Dedi',\n",
        "        'subject':'Programming Basic',\n",
        "        'hasil':100\n",
        "    },\n",
        "    '106':{\n",
        "        'nama':'Feri',\n",
        "        'subject':'Programming Basic',\n",
        "        'hasil':40\n",
        "    },\n",
        "    '6':{\n",
        "        'nama':'Andri',\n",
        "        'subject':'Web Programming',\n",
        "        'hasil':70\n",
        "    }, \n",
        "    '7':{\n",
        "        'nama':'Budi',\n",
        "        'subject':'Web Programming',\n",
        "        'hasil':80\n",
        "    },\n",
        "    '8':{\n",
        "        'nama':'Cika',\n",
        "        'subject':'Web Programming',\n",
        "        'hasil':80\n",
        "    },\n",
        "    '9':{\n",
        "        'nama':'Dedi',\n",
        "        'subject':'Web Programming',\n",
        "        'hasil':90\n",
        "    },\n",
        "    '10':{\n",
        "        'nama':'Feri',\n",
        "        'subject':'Web Programming',\n",
        "        'hasil':60\n",
        "    },\n",
        "}\n",
        "\n",
        "# delete key\n",
        "del teman['101']['hasil']\n",
        "\n",
        "del teman['101'],teman['106'],teman['6'],teman['10']\n",
        "\n",
        "print(teman)"
      ],
      "metadata": {
        "colab": {
          "base_uri": "https://localhost:8080/",
          "height": 0
        },
        "id": "7qAD9d4AhEUz",
        "outputId": "35a61d08-ad7a-404a-9f09-dd03450b4e4d"
      },
      "execution_count": 11,
      "outputs": [
        {
          "output_type": "stream",
          "name": "stdout",
          "text": [
            "{'102': {'nama': 'Budi', 'subject': 'Programming Basic', 'hasil': 90}, '103': {'nama': 'Cika', 'subject': 'Programming Basic', 'hasil': 100}, '104': {'nama': 'Dedi', 'subject': 'Programming Basic', 'hasil': 100}, '7': {'nama': 'Budi', 'subject': 'Web Programming', 'hasil': 80}, '8': {'nama': 'Cika', 'subject': 'Web Programming', 'hasil': 80}, '9': {'nama': 'Dedi', 'subject': 'Web Programming', 'hasil': 90}}\n"
          ]
        }
      ]
    },
    {
      "cell_type": "markdown",
      "source": [
        "**2. Membuat tabel menggunakan libery pandas dan mapplotlib:**\n",
        "\n",
        "**A. Tampilkan semua kolom dengan kolom desciption, kolom description \"PASS\" >= 70 dan \"FAIL kalau < 70**"
      ],
      "metadata": {
        "id": "tLA-BF1BjMVo"
      }
    },
    {
      "cell_type": "code",
      "source": [
        "hasil = (80 >= 70)\n",
        "teman = {\n",
        "    '101':{\n",
        "        'nama':'Andri',\n",
        "        'subject':'Programming Basic',\n",
        "        'hasil':80\n",
        "    },\n",
        "}\n",
        "print(teman)\n",
        "print(hasil)"
      ],
      "metadata": {
        "colab": {
          "base_uri": "https://localhost:8080/",
          "height": 0
        },
        "id": "1fOv9q4XjL21",
        "outputId": "ad355e5e-0251-43f4-b4f1-8fa6d53cd7f5"
      },
      "execution_count": 26,
      "outputs": [
        {
          "output_type": "stream",
          "name": "stdout",
          "text": [
            "{'101': {'nama': 'Andri', 'subject': 'Programming Basic', 'hasil': 80}}\n",
            "True\n"
          ]
        }
      ]
    },
    {
      "cell_type": "code",
      "source": [
        "hasil2 = (70 < 60)\n",
        "teman = {\n",
        "    '10':{\n",
        "        'nama':'Feri',\n",
        "        'subject':'Web Programming',\n",
        "        'hasil':60\n",
        "    },\n",
        "}\n",
        "print(teman)\n",
        "print(hasil2)"
      ],
      "metadata": {
        "colab": {
          "base_uri": "https://localhost:8080/",
          "height": 0
        },
        "id": "8Apa5K2IyUEP",
        "outputId": "bc340c1d-8b89-443b-de3b-5cc498273ee5"
      },
      "execution_count": 28,
      "outputs": [
        {
          "output_type": "stream",
          "name": "stdout",
          "text": [
            "{'10': {'nama': 'Feri', 'subject': 'Web Programming', 'hasil': 60}}\n",
            "False\n"
          ]
        }
      ]
    },
    {
      "cell_type": "markdown",
      "source": [
        "**B. Tampilkan student number, name, & mean(rata-rata) dari semua nilai semua nilai student**"
      ],
      "metadata": {
        "id": "st-Y1626yr0h"
      }
    },
    {
      "cell_type": "code",
      "source": [
        "teman = {\n",
        "    '101':{\n",
        "        'nama':'Andri',\n",
        "        'hasil':80\n",
        "    }, \n",
        "    '102':{\n",
        "        'nama':'Budi',\n",
        "        'hasil':90\n",
        "    },\n",
        "    '103':{\n",
        "        'nama':'Cika',\n",
        "        'hasil':100\n",
        "    },\n",
        "    '104':{\n",
        "        'nama':'Dedi',\n",
        "        'hasil':100\n",
        "    },\n",
        "    '106':{\n",
        "        'nama':'Feri',\n",
        "        'hasil':40\n",
        "    },\n",
        "    '6':{\n",
        "        'nama':'Andri',\n",
        "        'hasil':70\n",
        "    }, \n",
        "    '7':{\n",
        "        'nama':'Budi',\n",
        "        'hasil':80\n",
        "    },\n",
        "    '8':{\n",
        "        'nama':'Cika',\n",
        "        'hasil':80\n",
        "    },\n",
        "    '9':{\n",
        "        'nama':'Dedi',\n",
        "        'hasil':90\n",
        "    },\n",
        "    '10':{\n",
        "        'nama':'Feri',\n",
        "        'hasil':60\n",
        "    },\n",
        "}\n",
        "print(teman)"
      ],
      "metadata": {
        "colab": {
          "base_uri": "https://localhost:8080/",
          "height": 0
        },
        "id": "LSPIiV1l0krH",
        "outputId": "9d68454e-68e8-451c-bc5e-3a4dd4476481"
      },
      "execution_count": 30,
      "outputs": [
        {
          "output_type": "stream",
          "name": "stdout",
          "text": [
            "{'101': {'nama': 'Andri', 'hasil': 80}, '102': {'nama': 'Budi', 'hasil': 90}, '103': {'nama': 'Cika', 'hasil': 100}, '104': {'nama': 'Dedi', 'hasil': 100}, '106': {'nama': 'Feri', 'hasil': 40}, '6': {'nama': 'Andri', 'hasil': 70}, '7': {'nama': 'Budi', 'hasil': 80}, '8': {'nama': 'Cika', 'hasil': 80}, '9': {'nama': 'Dedi', 'hasil': 90}, '10': {'nama': 'Feri', 'hasil': 60}}\n"
          ]
        }
      ]
    },
    {
      "cell_type": "markdown",
      "source": [
        "**C. Buatlah visualisasi dari proses no 2, dengan hasil!**"
      ],
      "metadata": {
        "id": "wcX8RQFo1Vdw"
      }
    },
    {
      "cell_type": "code",
      "source": [
        "import numpy as np\n",
        "import matplotlib.pyplot as plt\n",
        "x = np.array([1,2,3,4,5])\n",
        "y = np.array([80,90,100,100,40])\n",
        "y2 = np.array([70,80,80,90,60])\n",
        "print('Graphs Grade Pemograman')\n",
        "plt.plot(x,y)\n",
        "plt.plot(x,y2)\n",
        "plt.show()"
      ],
      "metadata": {
        "colab": {
          "base_uri": "https://localhost:8080/",
          "height": 282
        },
        "id": "kj_bF06x9Dro",
        "outputId": "8e4b9c2e-4551-44dd-ea7d-b1cae1c87bee"
      },
      "execution_count": 32,
      "outputs": [
        {
          "output_type": "stream",
          "name": "stdout",
          "text": [
            "Graphs Grade Pemograman\n"
          ]
        },
        {
          "output_type": "display_data",
          "data": {
            "text/plain": [
              "<Figure size 432x288 with 1 Axes>"
            ],
            "image/png": "[encoded data removed]"
          },
          "metadata": {
            "needs_background": "light"
          }
        }
      ]
    }
  ]
}