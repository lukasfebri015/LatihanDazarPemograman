{
  "cells": [
    {
      "cell_type": "markdown",
      "metadata": {
        "id": "view-in-github",
        "colab_type": "text"
      },
      "source": [
        "<a href=\"https://colab.research.google.com/github/lukasfebri015/LatihanDazarPemograman/blob/main/11.%20Function.ipynb\" target=\"_parent\"><img src=\"https://colab.research.google.com/assets/colab-badge.svg\" alt=\"Open In Colab\"/></a>"
      ]
    },
    {
      "cell_type": "markdown",
      "metadata": {
        "id": "Qmp_gmXTkd7A"
      },
      "source": [
        "<h2>Pengertian</h2>\n",
        "<ol>\n",
        "    <li>Fungsi pada python adalah kumpulan perintah atau baris kode yang dikelompokkan menjadi satu kesatuan untuk kemudian bisa dipanggil atau digunakan berkali-kali.</li>\n",
        "    <li>Sebuah fungsi dapat menerima parameter, dapat mengembalikan suatu nilai, dan dapat dipanggil berkali-kali secara independen.</li>\n",
        "</ol>\n",
        "<hr>\n",
        "<h2>Keuntungan</h2>\n",
        "<ol>\n",
        "    <li>Membagi kode program menjadi bagian-bagian kecil dengan tugasnya masing-masing.</li>\n",
        "    <li>Membuat kode program menjadi lebih “reusable” dan lebih terstruktur.</li>\n",
        "</ol>\n",
        "<hr>\n",
        "<h2>Sintaks</h2>\n",
        "\n",
        "```python\n",
        "def function_name():\n",
        "    Logic Program\n",
        "```\n",
        "Cara memanggil fungsi dengan menuliskan function_name diikuti kurung buka tutup () beserta parameter jika ada\n",
        "\n",
        "```python\n",
        "    function_name()\n",
        "```\n",
        "<hr>\n",
        "Buatlah fungsi dengan nama \"helloPython\" yang berfungsi untuk mencetak \"Welcome in Python Language\" "
      ]
    },
    {
      "cell_type": "code",
      "execution_count": 1,
      "metadata": {
        "id": "jxCGSVG-kd7M",
        "outputId": "d6b3ce49-82fd-4b0a-a1a7-a7458092aced",
        "colab": {
          "base_uri": "https://localhost:8080/"
        }
      },
      "outputs": [
        {
          "output_type": "stream",
          "name": "stdout",
          "text": [
            "Welcome in Python Language\n"
          ]
        }
      ],
      "source": [
        "def helloPython():\n",
        "  print('Welcome in Python Language')\n",
        "\n",
        "helloPython()"
      ]
    },
    {
      "cell_type": "code",
      "source": [
        "nama = 'LUKAS FEBRIAN'\n",
        "def helloPython():\n",
        "  print(nama)\n",
        "\n",
        "helloPython()"
      ],
      "metadata": {
        "id": "fCdL3kajlmhn",
        "outputId": "9f6e888e-79cc-49d9-c70a-7cce74a45b64",
        "colab": {
          "base_uri": "https://localhost:8080/"
        }
      },
      "execution_count": 2,
      "outputs": [
        {
          "output_type": "stream",
          "name": "stdout",
          "text": [
            "LUKAS FEBRIAN\n"
          ]
        }
      ]
    },
    {
      "cell_type": "code",
      "source": [
        "nama = 'LUKAS'\n",
        "nama_ = 'NICO'\n",
        "def helloPython():\n",
        "  print(nama)\n",
        "\n",
        "def helloPython():\n",
        "  print(nama)\n",
        "\n",
        "helloPython()\n",
        "helloPython()"
      ],
      "metadata": {
        "id": "Pvbz9kI6l_0G",
        "outputId": "2c65f12b-e3ec-45d1-81c8-87fa1e006612",
        "colab": {
          "base_uri": "https://localhost:8080/"
        }
      },
      "execution_count": 3,
      "outputs": [
        {
          "output_type": "stream",
          "name": "stdout",
          "text": [
            "LUKAS\n",
            "LUKAS\n"
          ]
        }
      ]
    },
    {
      "cell_type": "markdown",
      "metadata": {
        "id": "xX5gMH87kd7N"
      },
      "source": [
        "<h1>Fungsi dengan parameter</h1>\n",
        "Sebuah fungsi dapat menerima parameter ataupun argumen yang merupakan suatu nilai/variabel yang dilemparkan ke dalam fungsi untuk diproses lebih lanjut.\n",
        "\n",
        "<h2>Sintaks</h2>\n",
        "\n",
        "```python\n",
        "def function_name(param):\n",
        "    Logic Program\n",
        "```\n",
        "Cara memanggil fungsi dengan menuliskan function_name diikuti kurung buka tutup () beserta parameter\n",
        "\n",
        "```python\n",
        "    function_name(param)\n",
        "```\n",
        "<hr>"
      ]
    },
    {
      "cell_type": "markdown",
      "metadata": {
        "id": "jpgRV9aekd7P"
      },
      "source": [
        "Buatlah fungsi dengan nama \"fullName\" yang mempunyai parameter \"firstname\" dan \"lastname\" digunakan untuk mencetak \"firstname\" dan \"lastname\""
      ]
    },
    {
      "cell_type": "code",
      "execution_count": 4,
      "metadata": {
        "id": "9Lo_RXYikd7P",
        "outputId": "49f69155-abce-47ff-c8f7-88ded045e40a",
        "colab": {
          "base_uri": "https://localhost:8080/"
        }
      },
      "outputs": [
        {
          "output_type": "stream",
          "name": "stdout",
          "text": [
            "LUKAS FEBRIAN\n"
          ]
        }
      ],
      "source": [
        "def fullName(fisrtname,lastname):\n",
        "  print(f\"{fisrtname} {lastname}\")\n",
        "\n",
        "fullName(\"LUKAS\",\"FEBRIAN\")"
      ]
    },
    {
      "cell_type": "markdown",
      "metadata": {
        "id": "zhauhc2Jkd7Q"
      },
      "source": [
        "Parameter fungsi diperbolehkan menggunakan lebih dari 1, dimana paramater tersebut ada yang wajib harus diisi dan ada yang tidak harus diisi\n",
        "\n",
        "```python\n",
        "def function_name(param_1, param_2, param_3,....):\n",
        "    Logic Program\n",
        "```\n",
        "\n",
        "Cara memanggil fungsi dengan menuliskan function_name diikuti kurung buka tutup () beserta parameter\n",
        "\n",
        "```python\n",
        "    function_name(param_1, param_2, param_3)\n",
        "```\n",
        "<hr>\n",
        "Buatlah fungsi dengan nama maxValue yang mempunyai parameter \"val_1\",\"val_2\" dan \"val_3\" yang bertujuan untuk mencari nilai terbesar dari 3 nilai tersebut"
      ]
    },
    {
      "cell_type": "code",
      "execution_count": 5,
      "metadata": {
        "id": "hbqEcjiekd7R",
        "outputId": "87f99109-c281-41fe-c1f5-81366bf2a11b",
        "colab": {
          "base_uri": "https://localhost:8080/"
        }
      },
      "outputs": [
        {
          "output_type": "stream",
          "name": "stdout",
          "text": [
            "Nilai Terbesar adalah 100\n"
          ]
        }
      ],
      "source": [
        "def maxValue(val_1,val_2,val_3):\n",
        "  if val_1 >= val_2 and val_1 >= val_3:\n",
        "    print(f\"Nilai Terbesar adalah {val_1}\")\n",
        "\n",
        "maxValue(100, 70, 65)"
      ]
    },
    {
      "cell_type": "markdown",
      "metadata": {
        "id": "bLdFnSlskd7R"
      },
      "source": [
        "Parameter opsional digunakan pada fungsi dengan cara memberikan nilai default, artinya nilai parameter sudah diberikan terlebih dahulu tanpa dipanggil\n",
        "\n",
        "```python\n",
        "def function_name(param_1, param_2, param_3 = 'Nilai'):\n",
        "    Logic Program\n",
        "```"
      ]
    },
    {
      "cell_type": "markdown",
      "metadata": {
        "id": "HPJdv-1Ekd7S"
      },
      "source": [
        "Buatlah fungsi \"countCircleArea\" dengan 2 parameter yaitu \"phi\" dan \"diameter\" dimana parameter phi mempunyai nilai default 3.14"
      ]
    },
    {
      "cell_type": "code",
      "execution_count": 9,
      "metadata": {
        "id": "DCSszQz3kd7T",
        "outputId": "1303fe3f-96fe-4b0d-f3f0-80f14928a13d",
        "colab": {
          "base_uri": "https://localhost:8080/"
        }
      },
      "outputs": [
        {
          "output_type": "execute_result",
          "data": {
            "text/plain": [
              "78.5"
            ]
          },
          "metadata": {},
          "execution_count": 9
        }
      ],
      "source": [
        "def countCyrcleArea(diameter, phi=3.14):\n",
        "  r = diameter/2\n",
        "  return phi * r * r\n",
        "countCyrcleArea(10)"
      ]
    },
    {
      "cell_type": "code",
      "source": [
        "from IPython.core.compilerop import CachingCompiler\n",
        "def countCyrcleArea(diameter, phi=3.14):\n",
        "  r = diameter/2\n",
        "  return phi * r * r\n",
        "countCyrcleArea(10)\n",
        "\n",
        "def countSquareArea(sisi):\n",
        "  return sisi * sisi\n",
        "\n",
        "circle = countCyrcleArea(10)\n",
        "square = countSquareArea(10)\n",
        "\n",
        "result = square - circle\n",
        "print(f'{result}')"
      ],
      "metadata": {
        "id": "3318MBaJqCOW",
        "outputId": "f839970c-140d-45e0-ca5f-c299b181bd91",
        "colab": {
          "base_uri": "https://localhost:8080/"
        }
      },
      "execution_count": 11,
      "outputs": [
        {
          "output_type": "stream",
          "name": "stdout",
          "text": [
            "21.5\n"
          ]
        }
      ]
    },
    {
      "cell_type": "markdown",
      "metadata": {
        "id": "CaWPqjWokd7U"
      },
      "source": [
        "Fungsi dengan 2 Parameter opsional juga dapat dilakukan pada Python. \n",
        "\n",
        "```python\n",
        "def info(suhu, daerah='Sukabumi', satuan = 'Celcius'):\n",
        "    print(f\"Suhu sekarang di {daerah} : {suhu} {satuan} \")\n",
        "```\n",
        "Adapun Cara memanggilnya\n",
        "\n",
        "```python\n",
        "    info(30)\n",
        "```"
      ]
    },
    {
      "cell_type": "code",
      "execution_count": 13,
      "metadata": {
        "id": "KkRPjIOnkd7V",
        "outputId": "fc791da2-2e07-4ac1-8ba1-20bd4a571b5a",
        "colab": {
          "base_uri": "https://localhost:8080/"
        }
      },
      "outputs": [
        {
          "output_type": "stream",
          "name": "stdout",
          "text": [
            "Suhu sekarang di Nagrak : 24 Celcius \n"
          ]
        }
      ],
      "source": [
        "#Cobalah fungsi tersebut pada area kode disini\n",
        "def info(suhu, daerah='Nagrak', satuan = 'Celcius'):\n",
        "    print(f\"Suhu sekarang di {daerah} : {suhu} {satuan} \")\n",
        "\n",
        "info(24)"
      ]
    },
    {
      "cell_type": "code",
      "source": [
        "def info(suhu, daerah='Nagrak', satuan = 'Celcius'):\n",
        "    print(f\"Suhu sekarang di {daerah} : {suhu} {satuan} \")\n",
        "\n",
        "info(24)\n",
        "info(25, 'Pelabuhan')\n",
        "info(30, 'Sukabumi')\n",
        "\n",
        "info(24, satuan='Farenhelt')"
      ],
      "metadata": {
        "id": "w7CM6YHerd_t",
        "outputId": "a0db4d79-b1ba-4cc3-bdaa-4578e960a6d5",
        "colab": {
          "base_uri": "https://localhost:8080/"
        }
      },
      "execution_count": 18,
      "outputs": [
        {
          "output_type": "stream",
          "name": "stdout",
          "text": [
            "Suhu sekarang di Nagrak : 24 Celcius \n",
            "Suhu sekarang di Pelabuhan : 25 Celcius \n",
            "Suhu sekarang di Sukabumi : 30 Celcius \n",
            "Suhu sekarang di Nagrak : 24 Farenhelt \n"
          ]
        }
      ]
    },
    {
      "cell_type": "markdown",
      "metadata": {
        "id": "1HGRAYetkd7X"
      },
      "source": [
        "<h1>Fungsi dengan Return Value</h1>\n",
        "\n",
        "Yaitu fungsi dimana akhir dari programnya adalah nilai kembalian atau nilai balik. Artinya nilai dalam fungsi dapat ditampung lagi ke variabel lain untuk digunakan operasi lebih lanjut.\n",
        "\n",
        "Buatlah fungsi dengan return value yang digunakan untuk mengecek sebuah bilangan termasuk bilangan negatif, bilangan neteral(0) dan bilangan positif"
      ]
    },
    {
      "cell_type": "code",
      "execution_count": 19,
      "metadata": {
        "id": "FpQofkiakd7c",
        "outputId": "ae030dc5-af7c-481f-953a-31ef1b25b078",
        "colab": {
          "base_uri": "https://localhost:8080/"
        }
      },
      "outputs": [
        {
          "output_type": "execute_result",
          "data": {
            "text/plain": [
              "24"
            ]
          },
          "metadata": {},
          "execution_count": 19
        }
      ],
      "source": [
        "def factorial(bil):\n",
        "  if bil==1:\n",
        "    return 1\n",
        "\n",
        "  return bil * factorial(bil -1)\n",
        "\n",
        "factorial(4)\n"
      ]
    },
    {
      "cell_type": "markdown",
      "metadata": {
        "id": "xpHlaQjEkd7d"
      },
      "source": [
        "<h3>Soal Latihan</h3>\n",
        "<ol>\n",
        "    <li>Buatlah fungsi untuk menjumlahkan total nilai dari list</li>\n",
        "    <li>Buatlah fungsi untuk mencari nilai terbesar dari sekumpulan list </li>\n",
        "    <li>Buatlah fungsi untuk menjumlahkan 2 buah list </li>\n",
        "</ol>\n"
      ]
    },
    {
      "cell_type": "code",
      "execution_count": 23,
      "metadata": {
        "id": "2o_bZftckd7e",
        "outputId": "3ce0effa-32fa-47f3-9b66-9d917d8acebe",
        "colab": {
          "base_uri": "https://localhost:8080/"
        }
      },
      "outputs": [
        {
          "output_type": "execute_result",
          "data": {
            "text/plain": [
              "74.0"
            ]
          },
          "metadata": {},
          "execution_count": 23
        }
      ],
      "source": [
        "#Soal 1\n",
        "def totalVal (list_val):\n",
        "  total = 0\n",
        "  for i in list_val:\n",
        "    total += i\n",
        "  return total\n",
        "\n",
        "def meanVal (list_val):\n",
        "  rata2 = totalVal(list_val)/len(list_val)\n",
        "  return rata2\n",
        "\n",
        "nilai = [90,80,70,60,70]\n",
        "meanVal(nilai)"
      ]
    },
    {
      "cell_type": "code",
      "source": [
        "#Soal 1\n",
        "def totalVal (list_val):\n",
        "  total = 0\n",
        "  for i in list_val:\n",
        "    total += i\n",
        "  return total\n",
        "\n",
        "nilai = [90,80,70,60,70]\n",
        "totalVal(nilai)"
      ],
      "metadata": {
        "id": "IwJJfWvL3TCw",
        "outputId": "a2e6378f-4db9-4611-b74a-e2ba8c8ab87d",
        "colab": {
          "base_uri": "https://localhost:8080/"
        }
      },
      "execution_count": 24,
      "outputs": [
        {
          "output_type": "execute_result",
          "data": {
            "text/plain": [
              "370"
            ]
          },
          "metadata": {},
          "execution_count": 24
        }
      ]
    },
    {
      "cell_type": "code",
      "execution_count": 30,
      "metadata": {
        "id": "RoSS2aLakd7e",
        "outputId": "12485bd3-5983-42ed-bf63-37a9cebf3d93",
        "colab": {
          "base_uri": "https://localhost:8080/"
        }
      },
      "outputs": [
        {
          "output_type": "execute_result",
          "data": {
            "text/plain": [
              "90"
            ]
          },
          "metadata": {},
          "execution_count": 30
        }
      ],
      "source": [
        "#Soal 2\n",
        "def getMaxValue(list_val):\n",
        "  maks = 0\n",
        "  for i in list_val:\n",
        "    if i > maks:\n",
        "      maks = i\n",
        "\n",
        "    return maks\n",
        "\n",
        "nilai = [90,89,10,65,40]\n",
        "getMaxValue(nilai)"
      ]
    },
    {
      "cell_type": "code",
      "execution_count": 33,
      "metadata": {
        "id": "_kr5Mvdnkd7f",
        "outputId": "518082ec-410c-46c7-cb53-5d52baa5dba9",
        "colab": {
          "base_uri": "https://localhost:8080/"
        }
      },
      "outputs": [
        {
          "output_type": "stream",
          "name": "stdout",
          "text": [
            "[{'nama': 'Lukas', 'nilai': 75}, {'nama': 'Taufik', 'nilai': 85}, {'nama': 'Maxi', 'nilai': 80}, {'nama': 'Nico', 'nilai': 90}]\n"
          ]
        }
      ],
      "source": [
        "#Soal 3\n",
        "nilai_pemograman = [\n",
        "    {\n",
        "        \"nama\":\"Lukas\",\n",
        "     \"nilai\":75\n",
        "    },\n",
        "    {\n",
        "        \"nama\":\"Taufik\",\n",
        "     \"nilai\":85\n",
        "    },\n",
        "    {\n",
        "        \"nama\":\"Maxi\",\n",
        "     \"nilai\":80\n",
        "    },\n",
        "    {\n",
        "        \"nama\":\"Nico\",\n",
        "     \"nilai\":90\n",
        "    }\n",
        "]\n",
        "\n",
        "print(nilai_pemograman)"
      ]
    },
    {
      "cell_type": "code",
      "source": [
        "print('##  Program Python Penjumlahan List / Array  ##')\n",
        "print('===============================================')\n",
        "print()\n",
        "  \n",
        "n = int(input('Input jumlah element list: '))\n",
        "print()\n",
        " \n",
        "print('Input',n,'angka (dipisah dengan enter): ');\n",
        " \n",
        "# simpan setiap angka yang diinput ke dalam list\n",
        "x = []\n",
        "for i in range(n):\n",
        "  print('Angka ke-',i+1,': ',sep='',end='')\n",
        "  x.append(int(input()))\n",
        " \n",
        "print()\n",
        " \n",
        "# cari total semua element list\n",
        "total = 0\n",
        "for i in range(n):\n",
        "  total = total+x[i];\n",
        " \n",
        "print('Total penjumlahan dari',n,'angka tersebut adalah:',total);"
      ],
      "metadata": {
        "id": "h4H9tFRu6ir6",
        "outputId": "6006c25d-0ce5-42a3-f528-a1c6129cb558",
        "colab": {
          "base_uri": "https://localhost:8080/"
        }
      },
      "execution_count": 36,
      "outputs": [
        {
          "output_type": "stream",
          "name": "stdout",
          "text": [
            "##  Program Python Penjumlahan List / Array  ##\n",
            "===============================================\n",
            "\n",
            "Input jumlah element list: 7\n",
            "\n",
            "Input 7 angka (dipisah dengan enter): \n",
            "Angka ke-1: 84\n",
            "Angka ke-2: 24\n",
            "Angka ke-3: 61\n",
            "Angka ke-4: 95\n",
            "Angka ke-5: 66\n",
            "Angka ke-6: 21\n",
            "Angka ke-7: 22\n",
            "\n",
            "Total penjumlahan dari 7 angka tersebut adalah: 373\n"
          ]
        }
      ]
    }
  ],
  "metadata": {
    "kernelspec": {
      "display_name": "Python 3",
      "language": "python",
      "name": "python3"
    },
    "language_info": {
      "codemirror_mode": {
        "name": "ipython",
        "version": 3
      },
      "file_extension": ".py",
      "mimetype": "text/x-python",
      "name": "python",
      "nbconvert_exporter": "python",
      "pygments_lexer": "ipython3",
      "version": "3.8.5"
    },
    "colab": {
      "provenance": [],
      "include_colab_link": true
    }
  },
  "nbformat": 4,
  "nbformat_minor": 0
}