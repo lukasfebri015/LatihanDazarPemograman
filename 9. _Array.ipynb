{
  "nbformat": 4,
  "nbformat_minor": 0,
  "metadata": {
    "colab": {
      "provenance": [],
      "authorship_tag": "ABX9TyMT7n6IEK9JeeKEuRFIcDx3",
      "include_colab_link": true
    },
    "kernelspec": {
      "name": "python3",
      "display_name": "Python 3"
    },
    "language_info": {
      "name": "python"
    }
  },
  "cells": [
    {
      "cell_type": "markdown",
      "metadata": {
        "id": "view-in-github",
        "colab_type": "text"
      },
      "source": [
        "<a href=\"https://colab.research.google.com/github/lukasfebri015/LatihanDazarPemograman/blob/main/9.%20_Array.ipynb\" target=\"_parent\"><img src=\"https://colab.research.google.com/assets/colab-badge.svg\" alt=\"Open In Colab\"/></a>"
      ]
    },
    {
      "cell_type": "markdown",
      "source": [
        "<h1>Array</h1><br>\n",
        "<ol>\n",
        "    <li>Array adalah tipe data yang berisi kumpulan dari beberapa nilai.</li>\n",
        "    <li>Nilai yang terdapat dalam array disebut dengan elemen, dan pada setiap elemen memiliki nomor pengenal yang dikenal dengan istilah indeks</li>\n",
        "    <li>Penomoran indeks di dalam array dimulai dari angka 0, sehingga elemen pertama berada di index 0, elemen kedua berada di indeks 1, sehingga dapat disimpulkan bahwa elemen yang ke n berada pada indeks n-1</li>\n",
        "</ol>\n",
        "\n",
        "<h3>Ilustrasi Array</h3>\n",
        "<img src=\"https://galuhratna.alza.web.id/blog/wp-content/uploads/2020/03/array1D-300x82.png\"></img>\n",
        "\n",
        "<h2>Operasi Array</h2><hr>"
      ],
      "metadata": {
        "id": "kiy-FH46qHkQ"
      }
    },
    {
      "cell_type": "markdown",
      "source": [
        "<h3>1. Membuat Array"
      ],
      "metadata": {
        "id": "GxeMWV2zqVh8"
      }
    },
    {
      "cell_type": "code",
      "source": [
        "#import library array sebagai alias\n",
        "\n",
        "import array as arr\n",
        "arr_int = arr.array('i',[10,20,30,40,90,80])\n",
        "\n",
        "print(arr_int)"
      ],
      "metadata": {
        "colab": {
          "base_uri": "https://localhost:8080/"
        },
        "id": "z6N_zcGkqkcp",
        "outputId": "d523c950-9219-4a5f-fd0f-96a2d9d999e5"
      },
      "execution_count": null,
      "outputs": [
        {
          "output_type": "stream",
          "name": "stdout",
          "text": [
            "array('i', [10, 20, 30, 40, 90, 80])\n"
          ]
        }
      ]
    },
    {
      "cell_type": "markdown",
      "source": [
        "<h3>2. Mengakses Array"
      ],
      "metadata": {
        "id": "0tckI9_kqWjS"
      }
    },
    {
      "cell_type": "code",
      "source": [
        "pjg_array = len(arr_int)\n",
        "print(\"elemen array terakhir:\",arr_int[pjg_array-1])\n",
        "\n",
        "#Looping mengakses nilai elemen tanpa mengetahui indeks\n",
        "for i in arr_int:\n",
        "    print(i)\n",
        "print('--------------------------------')  \n",
        "#looping mengakses nilai elemen dengan paramter indeks\n",
        "total = 0\n",
        "for j in range(pjg_array):\n",
        "    total = total + arr_int[j]\n",
        "    print(total)\n",
        "rata2 = total / pjg_array\n",
        "print(f\"nilai rata-rata: {rata2}\")"
      ],
      "metadata": {
        "colab": {
          "base_uri": "https://localhost:8080/"
        },
        "id": "Agkfc9c4qYHX",
        "outputId": "e4bf37c6-6309-4079-bfb3-58eb65568294"
      },
      "execution_count": null,
      "outputs": [
        {
          "output_type": "stream",
          "name": "stdout",
          "text": [
            "elemen array terakhir: 80\n",
            "10\n",
            "20\n",
            "30\n",
            "40\n",
            "90\n",
            "80\n",
            "--------------------------------\n",
            "10\n",
            "30\n",
            "60\n",
            "100\n",
            "190\n",
            "270\n",
            "nilai rata-rata: 45.0\n"
          ]
        }
      ]
    },
    {
      "cell_type": "markdown",
      "source": [
        "<h3>3. Menambah Array"
      ],
      "metadata": {
        "id": "f3HtjTqDqWt7"
      }
    },
    {
      "cell_type": "code",
      "source": [
        "posisi = 3\n",
        "nilai = 66\n",
        "arr_int.insert(posisi,nilai)\n",
        "print(arr_int)"
      ],
      "metadata": {
        "colab": {
          "base_uri": "https://localhost:8080/"
        },
        "id": "l__1gi8IqYPn",
        "outputId": "ac027a99-8003-49f0-9ef5-104471891455"
      },
      "execution_count": null,
      "outputs": [
        {
          "output_type": "stream",
          "name": "stdout",
          "text": [
            "array('i', [10, 20, 30, 66, 40, 90, 80])\n"
          ]
        }
      ]
    },
    {
      "cell_type": "markdown",
      "source": [
        "<h3>4. Mengupdate Array"
      ],
      "metadata": {
        "id": "yeyxzWwzqW5N"
      }
    },
    {
      "cell_type": "code",
      "source": [
        "arr_int[0] = 80\n",
        "print(arr_int)"
      ],
      "metadata": {
        "colab": {
          "base_uri": "https://localhost:8080/"
        },
        "id": "HEcRAPljqYXm",
        "outputId": "b0d2a6b8-d368-452d-c4cb-23b7e3944b43"
      },
      "execution_count": null,
      "outputs": [
        {
          "output_type": "stream",
          "name": "stdout",
          "text": [
            "array('i', [80, 20, 30, 66, 40, 90, 80])\n"
          ]
        }
      ]
    },
    {
      "cell_type": "markdown",
      "source": [
        "<h3>5. Menghapus Array"
      ],
      "metadata": {
        "id": "_JRHudk7qXKd"
      }
    },
    {
      "cell_type": "code",
      "source": [
        "arr_int.remove(80)\n",
        "print(arr_int)\n",
        "\n",
        "arr_int.pop()\n",
        "print(arr_int)"
      ],
      "metadata": {
        "colab": {
          "base_uri": "https://localhost:8080/"
        },
        "id": "KXs5DpFWqYey",
        "outputId": "e665e4ab-051b-41b8-bf19-ea07a96408bb"
      },
      "execution_count": null,
      "outputs": [
        {
          "output_type": "stream",
          "name": "stdout",
          "text": [
            "array('i', [20, 30, 66, 40, 90, 80])\n",
            "array('i', [20, 30, 66, 40, 90])\n"
          ]
        }
      ]
    },
    {
      "cell_type": "markdown",
      "source": [
        "<h3>6. Mencari Array<h3>"
      ],
      "metadata": {
        "id": "0ZwKlqblqXCH"
      }
    },
    {
      "cell_type": "code",
      "source": [
        "arr_int.index(30)"
      ],
      "metadata": {
        "colab": {
          "base_uri": "https://localhost:8080/"
        },
        "id": "OattsTnVqYna",
        "outputId": "6a10b5f6-1411-49c5-f41b-3b4c7012b88b"
      },
      "execution_count": null,
      "outputs": [
        {
          "output_type": "execute_result",
          "data": {
            "text/plain": [
              "2"
            ]
          },
          "metadata": {},
          "execution_count": 3
        }
      ]
    },
    {
      "cell_type": "markdown",
      "source": [
        "<h3>LATIHAN SOAL"
      ],
      "metadata": {
        "id": "Bj4Df1wtqXSR"
      }
    },
    {
      "cell_type": "markdown",
      "source": [
        "1. Sebuah kamar kost di daerah cisaat terdiri dari 1 lantai dan 10 kamar. Pemilik kost menandai kamar dengan tanda 'O' jika ada penghuninya dan tanda 'X' jika masih kosong. Reperesentasikan permasalahan tersebut dimana kamar yang sudah terisi adalah kamar 2,4,7 dan 9."
      ],
      "metadata": {
        "id": "1FnjHTSHqXZy"
      }
    },
    {
      "cell_type": "code",
      "source": [
        "#Your Code here\n",
        "kamar = arr.array('u',['X','X','X','X','X','X','X','X','X','X'])\n",
        "kamar[1]='O'\n",
        "kamar[3]='O'\n",
        "kamar[6]='O'\n",
        "kamar[8]='O'\n",
        "print(kamar)"
      ],
      "metadata": {
        "colab": {
          "base_uri": "https://localhost:8080/"
        },
        "id": "d2BSopHHqYwZ",
        "outputId": "0e889267-bbae-4498-93c3-e225ecc45ff4"
      },
      "execution_count": null,
      "outputs": [
        {
          "output_type": "stream",
          "name": "stdout",
          "text": [
            "array('u', 'XOXOXXOXOX')\n"
          ]
        }
      ]
    },
    {
      "cell_type": "markdown",
      "source": [
        "2. Berdasarkan soal 1, hitunglah berapa jumlah kamar yang masih kosong dan sebutkan kamar nomor berapa saja!"
      ],
      "metadata": {
        "id": "MpFq8LpMqXiz"
      }
    },
    {
      "cell_type": "code",
      "source": [
        "#Your Code here\n",
        "total = 0\n",
        "for i in kamar:\n",
        "    if i =='X':\n",
        "        total = total + 1\n",
        "\n",
        "print(f\"Kamar yang masih kosong sebanyak {total}\")\n",
        "\n",
        "#Mengecek bilangan prima atau bukan\n",
        "\n",
        "bilangan = 19\n",
        "jml_0 = 0\n",
        "for i in range (bilangan):\n",
        "    sisa = bilangan % (i+1)\n",
        "    if sisa == 0:\n",
        "        jml_0 = jml_0 + 1\n",
        "if jml_0==2:\n",
        "    print(\"Bilangan Prima\")\n",
        "else:\n",
        "    print(\"Bukan Prima\")"
      ],
      "metadata": {
        "colab": {
          "base_uri": "https://localhost:8080/"
        },
        "id": "IjZYhE7ZqY5p",
        "outputId": "bd5e750f-31e9-4f87-c27a-2446e4c5dc37"
      },
      "execution_count": null,
      "outputs": [
        {
          "output_type": "stream",
          "name": "stdout",
          "text": [
            "Kamar yang masih kosong sebanyak 6\n",
            "Bilangan Prima\n"
          ]
        }
      ]
    },
    {
      "cell_type": "markdown",
      "source": [
        "3. Pada tahun 2022 pemilik kost ingin mengubah fungsi kamar kost menjadi rumah pribadi, sehingga kamar kost tersebut dirobohkan. Representasikan permasalahan tersebut kedalam fungsi array"
      ],
      "metadata": {
        "id": "MU-RB-LNvQu0"
      }
    },
    {
      "cell_type": "code",
      "source": [
        "#Your code here\n",
        "print(kamar)\n",
        "\n",
        "for i in range(len(kamar)):\n",
        "    kamar.pop()\n",
        "print(kamar)"
      ],
      "metadata": {
        "colab": {
          "base_uri": "https://localhost:8080/"
        },
        "id": "2GJkjohaqY-i",
        "outputId": "2800d777-0a8f-493c-aecb-cf8797efb091"
      },
      "execution_count": null,
      "outputs": [
        {
          "output_type": "stream",
          "name": "stdout",
          "text": [
            "array('u', 'XOXOXXOXOX')\n",
            "array('u')\n"
          ]
        }
      ]
    },
    {
      "cell_type": "markdown",
      "source": [
        "4. Seorang penjual tahu menata raknya seperti berikut ini:\n",
        "[10,10,10,10,10,10,10,10,10,10]\n",
        "Setiap 1 tahu dijual dengan harga 1_000. Buatlah implementasi program yang mempunyai input uang dan jumlah tahu yang akan dibeli. Contoh input outputnya seperti berikut ini:\n",
        "input uang : 100_000\n",
        "jumlah tahu yang akan dibeli: 20\n",
        "\n",
        "Output:\n",
        "Total harga yang dibeli : 20_000\n",
        "Uang Kembali : 80_000\n",
        "Sisa Tahu : 80\n",
        "Posisi Akhir Rak : [0,0,10,10,10,10,10,10,10,10]"
      ],
      "metadata": {
        "id": "dB6wA4bNvQ8D"
      }
    },
    {
      "cell_type": "code",
      "source": [
        "#Your code here\n",
        "Stok_tahu=[10,10,10,10,10,10,10,10,10,10]\n",
        "harga=1000\n",
        "Jumlah_pembayaran=int(input('berapa uang yang akan di bayarkan: '))\n",
        "Jumlah_tahu_yang_dibeli=int(input('berapa tahu yang akan di beli: '))\n",
        "\n",
        "\n",
        "\n",
        "total_tahu_didapat=Jumlah_pembayaran/harga\n",
        "if Jumlah_tahu_yang_dibeli >= (len(Stok_tahu)*10):\n",
        "    print('stok tidak mencukupi')\n",
        "\n",
        "else:\n",
        "    print('stok tersedia')\n",
        "    total_harga=Jumlah_tahu_yang_dibeli*1000\n",
        "    \n",
        "    if Jumlah_pembayaran >= total_harga:\n",
        "        if True:\n",
        "            if Jumlah_tahu_yang_dibeli <= 10:\n",
        "                Stok_tahu[0]=Stok_tahu[0]-Jumlah_tahu_yang_dibeli\n",
        "                print(Stok_tahu)\n",
        "            elif Jumlah_tahu_yang_dibeli<= 20:\n",
        "                print('sisa tahu: ',(len(Stok_tahu)*10)-Jumlah_tahu_yang_dibeli)\n",
        "                Jumlah_tahu_yang_dibeli=Jumlah_tahu_yang_dibeli-10\n",
        "                Stok_tahu[0]=0\n",
        "                Stok_tahu[1]=Stok_tahu[1]-Jumlah_tahu_yang_dibeli\n",
        "                print('total harga: ',total_harga)\n",
        "                print('jumlah kembalian: ',Jumlah_pembayaran-total_harga)\n",
        "                print(Stok_tahu)"
      ],
      "metadata": {
        "colab": {
          "base_uri": "https://localhost:8080/"
        },
        "id": "CjlOwzY0qZF_",
        "outputId": "e478f99d-552c-4c98-e8be-d5e70ddc23cf"
      },
      "execution_count": null,
      "outputs": [
        {
          "output_type": "stream",
          "name": "stdout",
          "text": [
            "berapa uang yang akan di bayarkan: 80000\n",
            "berapa tahu yang akan di beli: 80\n",
            "stok tersedia\n"
          ]
        }
      ]
    }
  ]
}